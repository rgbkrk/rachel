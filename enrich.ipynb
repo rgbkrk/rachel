{
 "metadata": {
  "name": "",
  "signature": "sha256:b4ad6a889a3a5d4a4dfc08f592c105560d2f76c235c99f933f84c15768285057"
 },
 "nbformat": 3,
 "nbformat_minor": 0,
 "worksheets": [
  {
   "cells": [
    {
     "cell_type": "code",
     "collapsed": false,
     "input": [
      "'''\n",
      "Re-munge data from the FTC Robocall data set\n",
      "'''\n",
      "\n",
      "import pandas as pd\n",
      "import numpy as np\n",
      "\n",
      "from sklearn import preprocessing\n",
      "from sklearn.ensemble import RandomForestClassifier\n",
      "\n",
      "import phonenumbers\n",
      "from phonenumbers import geocoder\n",
      "# from phonenumbers import carrier\n",
      "from phonenumbers import timezone"
     ],
     "language": "python",
     "metadata": {},
     "outputs": [],
     "prompt_number": 1
    },
    {
     "cell_type": "code",
     "collapsed": false,
     "input": [
      "def get_time_zone(parsed_number):\n",
      "    '''\n",
      "    Pulls out the first timezone given back using the phonenumbers library,\n",
      "    otherwise just calls it America (based on this dataset).\n",
      "    '''\n",
      "    tz = timezone.time_zones_for_number(parsed_number)\n",
      "    \n",
      "    if(len(tz) > 2):\n",
      "        # Got a list of timezones, likely toll free number \n",
      "        tz = 'America'\n",
      "    else:\n",
      "        tz = tz[0]\n",
      "        \n",
      "    return tz\n",
      "\n",
      "\n",
      "def extract_features(ftc_row):\n",
      "    '''\n",
      "    Extracts some chosen features from an FTC Robocall DataFrame row\n",
      "    '''\n",
      "    to_parsed =  phonenumbers.parse(\"+\" + ftc_row[\"TO\"], None)\n",
      "    from_parsed = phonenumbers.parse(\"+\" + ftc_row[\"FROM\"], None)\n",
      "\n",
      "    # Make fields\n",
      "    ftc_row[\"TOVALID\"] = phonenumbers.is_valid_number(to_parsed)\n",
      "    ftc_row[\"FROMVALID\"] = phonenumbers.is_valid_number(from_parsed)\n",
      "    \n",
      "    ftc_row[\"TOSTATE\"] = geocoder.description_for_number(to_parsed, \"EN\")\n",
      "    ftc_row[\"FROMSTATE\"] = geocoder.description_for_number(from_parsed, \"EN\")\n",
      "    \n",
      "    ftc_row[\"TOTZ\"] = get_time_zone(to_parsed)\n",
      "    ftc_row[\"FROMTZ\"] = get_time_zone(from_parsed)\n",
      "    \n",
      "    ftc_row[\"TOAREACODE\"] = str(to_parsed.national_number)[:3]\n",
      "    ftc_row[\"FROMAREACODE\"] = str(from_parsed.national_number)[:3]\n",
      "    \n",
      "    ftc_row[\"HOUR\"] = ftc_row[\"DATE/TIME\"].hour\n",
      "    ftc_row[\"MINUTE\"] = ftc_row[\"DATE/TIME\"].minute\n",
      "    \n",
      "    # Weekdays are 0-4\n",
      "    ftc_row[\"ISWEEKDAY\"] = ftc_row[\"DATE/TIME\"].dayofweek in range(5)\n",
      "    \n",
      "    # Determined that a call within the first 3 minutes looked like an interesting feature\n",
      "    ftc_row[\"WITHIN_THREE_MINUTES\"] = ftc_row[\"MINUTE\"] < 3\n",
      "    \n",
      "    # FTC's data set \n",
      "    ftc_row['LIKELY ROBOCALL'] = ftc_row['LIKELY ROBOCALL'] == 'X'\n",
      "    \n",
      "    ftc_row[\"SAMEAREACODE\"] = ftc_row[\"TOAREACODE\"] == ftc_row[\"FROMAREACODE\"]\n",
      "    \n",
      "    return ftc_row\n",
      "\n",
      "\n",
      "# Scoring system for contest\n",
      "# Not 0-1 loss...\n",
      "def score(our_predictions, true_results):\n",
      "    our_score = 0\n",
      "    for i in range(len(true_results)):\n",
      "        if (our_predictions[i] == True and true_results[i] == True):\n",
      "            our_score += 1\n",
      "        if (our_predictions[i] == True and true_results[i] == False):\n",
      "            our_score -= 1\n",
      "    return our_score\n",
      "\n",
      "\n",
      "# features is only a copy of the dataframe, can't use this\n",
      "#def label_encode(features, feature_name):\n",
      "#    feature_encoder = preprocessing.LabelEncoder()\n",
      "#    features[feature_name] = feature_encoder.fit_transform(features[feature_name])\n",
      "#    return feature_encoder\n",
      "\n",
      "def enriched_data_to_features(enriched_data):\n",
      "    feature_names = [\n",
      "            \"TOTZ\",\n",
      "            \"FROMTZ\",\n",
      "            \"SAMEAREACODE\",\n",
      "            \"WITHIN_THREE_MINUTES\",\n",
      "            \"FROMVALID\",\n",
      "            \"HOUR\",\n",
      "            #\"ISWEEKDAY\", # Undecided on whether this will generalize since\n",
      "                          # training and test data have different weekdays\n",
      "            \n",
      "            \"NUM_FROM_CALLS\",\n",
      "            \"NUM_TO_CALLS\",\n",
      "    ]\n",
      "\n",
      "    features = enriched_data[feature_names]\n",
      "    \n",
      "    # Encode categorical data\n",
      "    if (\"TOTZ\" in features):\n",
      "        totz_encoder = preprocessing.LabelEncoder()\n",
      "        features[\"TOTZ\"] = totz_encoder.fit_transform(features[\"TOTZ\"])\n",
      "    if (\"FROMTZ\" in features):\n",
      "        fromtz_encoder = preprocessing.LabelEncoder()\n",
      "        features[\"FROMTZ\"] = fromtz_encoder.fit_transform(features[\"FROMTZ\"])\n",
      "    if (\"HOUR\" in features):\n",
      "        hour_encoder = preprocessing.LabelEncoder()\n",
      "        features[\"HOUR\"] = hour_encoder.fit_transform(features[\"HOUR\"])\n",
      "    \n",
      "    target = enriched_data[\"LIKELY ROBOCALL\"].values\n",
      "    \n",
      "    return features, target\n",
      "    \n",
      "\n",
      "def train(features, target, c):\n",
      "    '''\n",
      "    Trains the robocall classifier using an enriched DataFrame (using the\n",
      "    enrichment library).\n",
      "\n",
      "    >>> classifier = train(enriched_data)\n",
      "\n",
      "    '''\n",
      "\n",
      "    classifier = RandomForestClassifier(n_estimators=200, \n",
      "                                        verbose=0,\n",
      "                                        n_jobs=-1,\n",
      "                                        min_samples_split=c,\n",
      "                                        random_state=1,\n",
      "                                        oob_score=True)\n",
      "\n",
      "    classifier.fit(features, target)\n",
      "    print(\"Resulting OOB Score: {}\".format(classifier.oob_score_))\n",
      "\n",
      "    return classifier"
     ],
     "language": "python",
     "metadata": {},
     "outputs": [],
     "prompt_number": 3
    },
    {
     "cell_type": "code",
     "collapsed": false,
     "input": [
      "def massage_dataset(dataset=\"FTC1.csv\"):\n",
      "\n",
      "    X = pd.read_csv(dataset,\n",
      "                    parse_dates=[\"DATE/TIME\"],\n",
      "                    dtype={'TO':str, 'FROM':str})\n",
      "\n",
      "    # Initial feature extraction\n",
      "    Y = X.apply(extract_features, axis=1)\n",
      "\n",
      "    sizes = Y.groupby(\"FROM\").size()\n",
      "\n",
      "    def get_size(val):\n",
      "       return sizes[val]\n",
      "\n",
      "    Y[\"NUM_FROM_CALLS\"] = Y[\"FROM\"].apply(get_size)\n",
      "\n",
      "    sizes = Y.groupby(\"TO\").size()\n",
      "    Y[\"NUM_TO_CALLS\"] = Y[\"TO\"].apply(get_size)\n",
      "    return Y"
     ],
     "language": "python",
     "metadata": {},
     "outputs": [],
     "prompt_number": 124
    },
    {
     "cell_type": "code",
     "collapsed": false,
     "input": [
      "Y = massage_dataset(\"FTC1.csv\")"
     ],
     "language": "python",
     "metadata": {},
     "outputs": []
    },
    {
     "cell_type": "code",
     "collapsed": false,
     "input": [
      "Z = massage_dataset(\"FTC2.csv\")"
     ],
     "language": "python",
     "metadata": {},
     "outputs": [],
     "prompt_number": 126
    },
    {
     "cell_type": "code",
     "collapsed": false,
     "input": [
      "Z.to_csv(\"FTC2_enriched.csv\", encoding=\"utf-8\")"
     ],
     "language": "python",
     "metadata": {},
     "outputs": [],
     "prompt_number": 127
    },
    {
     "cell_type": "code",
     "collapsed": false,
     "input": [
      "Y.to_csv(\"FTC1_enriched.csv\", encoding='utf-8')"
     ],
     "language": "python",
     "metadata": {},
     "outputs": [],
     "prompt_number": 113
    },
    {
     "cell_type": "code",
     "collapsed": false,
     "input": [
      "dataset = 'FTC1_enriched.csv'\n",
      "Y = pd.read_csv(dataset,\n",
      "                parse_dates=[\"DATE/TIME\"],\n",
      "                dtype={'TO':str, 'FROM':str})"
     ],
     "language": "python",
     "metadata": {},
     "outputs": [],
     "prompt_number": 114
    },
    {
     "cell_type": "code",
     "collapsed": false,
     "input": [
      "# Separate into training and test sets based on FROM\n",
      "# This won't be needed when reading in testing data set;\n",
      "# for that, train on full data and then use .predict()\n",
      "\n",
      "from_numbers = Y[\"FROM\"].unique()\n",
      "\n",
      "# 70% / 30%\n",
      "num_train = int(round(.7 * len(from_numbers)))\n",
      "num_test = len(from_numbers) - num_train\n",
      "train_samples = np.random.choice(from_numbers, num_train)\n",
      "\n",
      "\n",
      "train_data = Y[Y['FROM'].isin(train_samples)]\n",
      "test_data = Y[~Y['FROM'].isin(train_samples)]\n"
     ],
     "language": "python",
     "metadata": {},
     "outputs": [],
     "prompt_number": 115
    },
    {
     "cell_type": "code",
     "collapsed": false,
     "input": [
      "train_data = Y\n",
      "test_data = Z\n"
     ],
     "language": "python",
     "metadata": {},
     "outputs": [],
     "prompt_number": 128
    },
    {
     "cell_type": "code",
     "collapsed": false,
     "input": [
      "# For development\n",
      "train_features, train_target = enriched_data_to_features(train_data)\n",
      "test_features, test_target = enriched_data_to_features(test_data)\n",
      "\n",
      "for c in [285]: #range(230, 290, 5):\n",
      "    classifier = train(train_features, train_target, c)\n",
      "    our_predictions = classifier.predict(test_features)\n",
      "    our_train_predictions = classifier.predict(train_features)\n",
      "    print \"c = {0}, test score = {1}, train score = {2}\".format(c, score(our_predictions, test_target), score(our_train_predictions, train_target) )\n",
      "\n",
      "# For production\n",
      "# classifier = train(Y)\n",
      "#classifier.feature_importances_"
     ],
     "language": "python",
     "metadata": {},
     "outputs": [
      {
       "output_type": "stream",
       "stream": "stdout",
       "text": [
        "Resulting OOB Score: 0.883156308467\n",
        "c = 285, test score = -76593, train score = 28914"
       ]
      },
      {
       "output_type": "stream",
       "stream": "stdout",
       "text": [
        "\n"
       ]
      }
     ],
     "prompt_number": 140
    },
    {
     "cell_type": "code",
     "collapsed": false,
     "input": [
      "# For production, we'll train on the entire FTC1 dataset and then fit to the FTC2 dataset\n",
      "\n",
      "train_features, train_target = enriched_data_to_features(train_data)\n",
      "test_features, test_target = enriched_data_to_features(test_data)\n",
      "\n",
      "predictions = classifier.predict(test_features)\n",
      "\n",
      "X = Z[[\"FROM\", \"TO\", \"DATE/TIME\"]]\n",
      "\n",
      "X[\"LIKELY ROBOCALL\"] = predictions\n",
      "X[\"LIKELY ROBOCALL\"] = X[\"LIKELY ROBOCALL\"].map(lambda x: \"X\" if x else \"\")"
     ],
     "language": "python",
     "metadata": {},
     "outputs": [],
     "prompt_number": 138
    },
    {
     "cell_type": "code",
     "collapsed": false,
     "input": [
      "X.to_csv(\"predictions.csv\")"
     ],
     "language": "python",
     "metadata": {},
     "outputs": [],
     "prompt_number": 141
    },
    {
     "cell_type": "code",
     "collapsed": false,
     "input": [
      "classifier.oob_score_"
     ],
     "language": "python",
     "metadata": {},
     "outputs": [
      {
       "metadata": {},
       "output_type": "pyout",
       "prompt_number": 134,
       "text": [
        "0.88743578475200413"
       ]
      }
     ],
     "prompt_number": 134
    },
    {
     "cell_type": "code",
     "collapsed": false,
     "input": [],
     "language": "python",
     "metadata": {},
     "outputs": []
    }
   ],
   "metadata": {}
  }
 ]
}