{
 "metadata": {
  "name": "",
  "signature": "sha256:7fa543411521ec94b45703593c6a50711956a7d41df53ed0df4d86498808955e"
 },
 "nbformat": 3,
 "nbformat_minor": 0,
 "worksheets": [
  {
   "cells": [
    {
     "cell_type": "heading",
     "level": 1,
     "metadata": {},
     "source": [
      "Rachel the robocaller"
     ]
    },
    {
     "cell_type": "markdown",
     "metadata": {},
     "source": [
      "> \"*This is Rachel from Card Services*\"\n",
      "\n",
      "At DEF CON 22, the FTC ran a contest to help mitigate robocalls. There were three rounds, the last of which was using a set of call records collected from a robocall honeypot to determine if a caller was a robocaller. See Parts I and II of the contest for details on robocaller honeypots.\n",
      "\n",
      "The FTC gave us two sets of data, that show a phone call from one \"person\" to another along with the date and time. Both collections have been randomized uniquely, but the portions of area code and subscriber number were kept the same.\n",
      "\n",
      "They told us we had to use one of several languages, including Python, so this details the approach we took in investigating the data."
     ]
    },
    {
     "cell_type": "code",
     "collapsed": false,
     "input": [
      "# Standard toolkits in pydata land\n",
      "import pandas as pd\n",
      "import numpy as np"
     ],
     "language": "python",
     "metadata": {},
     "outputs": [],
     "prompt_number": 1
    },
    {
     "cell_type": "code",
     "collapsed": false,
     "input": [
      "# Neat little library that is a partial port of Google's libphonenumber\n",
      "import phonenumbers\n",
      "from phonenumbers import geocoder\n",
      "# from phonenumbers import carrier\n",
      "from phonenumbers import timezone"
     ],
     "language": "python",
     "metadata": {},
     "outputs": [],
     "prompt_number": 2
    },
    {
     "cell_type": "code",
     "collapsed": false,
     "input": [
      "# First pass will use a Random Forest; more on this later\n",
      "from sklearn import preprocessing\n",
      "from sklearn.ensemble import RandomForestClassifier"
     ],
     "language": "python",
     "metadata": {},
     "outputs": [
      {
       "output_type": "stream",
       "stream": "stderr",
       "text": [
        "/usr/local/lib/python2.7/site-packages/scipy/stats/_continuous_distns.py:24: RuntimeWarning: numpy.dtype size changed, may indicate binary incompatibility\n",
        "  from . import vonmises_cython\n",
        "/usr/local/lib/python2.7/site-packages/scipy/stats/_continuous_distns.py:24: RuntimeWarning: numpy.ufunc size changed, may indicate binary incompatibility\n",
        "  from . import vonmises_cython\n",
        "/usr/local/lib/python2.7/site-packages/scipy/stats/stats.py:188: RuntimeWarning: numpy.dtype size changed, may indicate binary incompatibility\n",
        "  from ._rank import rankdata, tiecorrect\n"
       ]
      },
      {
       "output_type": "stream",
       "stream": "stderr",
       "text": [
        "/usr/local/lib/python2.7/site-packages/scipy/stats/stats.py:188: RuntimeWarning: numpy.ufunc size changed, may indicate binary incompatibility\n",
        "  from ._rank import rankdata, tiecorrect\n",
        "/usr/local/lib/python2.7/site-packages/scipy/spatial/__init__.py:90: RuntimeWarning: numpy.dtype size changed, may indicate binary incompatibility\n",
        "  from .ckdtree import *\n"
       ]
      },
      {
       "output_type": "stream",
       "stream": "stderr",
       "text": [
        "/usr/local/lib/python2.7/site-packages/scipy/spatial/__init__.py:90: RuntimeWarning: numpy.ufunc size changed, may indicate binary incompatibility\n",
        "  from .ckdtree import *\n",
        "/usr/local/lib/python2.7/site-packages/scipy/spatial/__init__.py:91: RuntimeWarning: numpy.dtype size changed, may indicate binary incompatibility\n",
        "  from .qhull import *\n",
        "/usr/local/lib/python2.7/site-packages/scipy/spatial/__init__.py:91: RuntimeWarning: numpy.ufunc size changed, may indicate binary incompatibility\n",
        "  from .qhull import *\n"
       ]
      }
     ],
     "prompt_number": 3
    },
    {
     "cell_type": "code",
     "collapsed": false,
     "input": [
      "def read_FTC(dataset):\n",
      "    return pd.read_csv(dataset,\n",
      "                parse_dates=[\"DATE/TIME\"],\n",
      "                converters={'LIKELY ROBOCALL': lambda val: val == 'X'},\n",
      "                dtype={'TO': str, 'FROM': str, 'LIKELY ROBOCALL': bool}\n",
      "    )\n",
      "\n",
      "labeled_data = read_FTC(\"FTC1.csv\")\n",
      "unlabeled_data = read_FTC(\"FTC2.csv\")"
     ],
     "language": "python",
     "metadata": {},
     "outputs": [],
     "prompt_number": 12
    },
    {
     "cell_type": "code",
     "collapsed": false,
     "input": [
      "labeled_data.head()"
     ],
     "language": "python",
     "metadata": {},
     "outputs": [
      {
       "html": [
        "<div style=\"max-height:1000px;max-width:1500px;overflow:auto;\">\n",
        "<table border=\"1\" class=\"dataframe\">\n",
        "  <thead>\n",
        "    <tr style=\"text-align: right;\">\n",
        "      <th></th>\n",
        "      <th>TO</th>\n",
        "      <th>FROM</th>\n",
        "      <th>DATE/TIME</th>\n",
        "      <th>LIKELY ROBOCALL</th>\n",
        "    </tr>\n",
        "  </thead>\n",
        "  <tbody>\n",
        "    <tr>\n",
        "      <th>0</th>\n",
        "      <td> 17866291260</td>\n",
        "      <td> 13055793696</td>\n",
        "      <td>2014-04-01</td>\n",
        "      <td> False</td>\n",
        "    </tr>\n",
        "    <tr>\n",
        "      <th>1</th>\n",
        "      <td> 14027826713</td>\n",
        "      <td> 12063339487</td>\n",
        "      <td>2014-04-01</td>\n",
        "      <td>  True</td>\n",
        "    </tr>\n",
        "    <tr>\n",
        "      <th>2</th>\n",
        "      <td> 17083187970</td>\n",
        "      <td> 12246108402</td>\n",
        "      <td>2014-04-01</td>\n",
        "      <td> False</td>\n",
        "    </tr>\n",
        "    <tr>\n",
        "      <th>3</th>\n",
        "      <td> 17733095581</td>\n",
        "      <td> 13035009570</td>\n",
        "      <td>2014-04-01</td>\n",
        "      <td>  True</td>\n",
        "    </tr>\n",
        "    <tr>\n",
        "      <th>4</th>\n",
        "      <td> 19188765408</td>\n",
        "      <td> 16153878533</td>\n",
        "      <td>2014-04-01</td>\n",
        "      <td>  True</td>\n",
        "    </tr>\n",
        "  </tbody>\n",
        "</table>\n",
        "</div>"
       ],
       "metadata": {},
       "output_type": "pyout",
       "prompt_number": 15,
       "text": [
        "            TO         FROM  DATE/TIME LIKELY ROBOCALL\n",
        "0  17866291260  13055793696 2014-04-01           False\n",
        "1  14027826713  12063339487 2014-04-01            True\n",
        "2  17083187970  12246108402 2014-04-01           False\n",
        "3  17733095581  13035009570 2014-04-01            True\n",
        "4  19188765408  16153878533 2014-04-01            True"
       ]
      }
     ],
     "prompt_number": 15
    },
    {
     "cell_type": "code",
     "collapsed": false,
     "input": [
      "unlabeled_data.head()"
     ],
     "language": "python",
     "metadata": {},
     "outputs": [
      {
       "html": [
        "<div style=\"max-height:1000px;max-width:1500px;overflow:auto;\">\n",
        "<table border=\"1\" class=\"dataframe\">\n",
        "  <thead>\n",
        "    <tr style=\"text-align: right;\">\n",
        "      <th></th>\n",
        "      <th>TO</th>\n",
        "      <th>FROM</th>\n",
        "      <th>DATE/TIME</th>\n",
        "      <th>LIKELY ROBOCALL</th>\n",
        "    </tr>\n",
        "  </thead>\n",
        "  <tbody>\n",
        "    <tr>\n",
        "      <th>0</th>\n",
        "      <td> 16163847430</td>\n",
        "      <td> 13236069958</td>\n",
        "      <td>2014-06-01</td>\n",
        "      <td> False</td>\n",
        "    </tr>\n",
        "    <tr>\n",
        "      <th>1</th>\n",
        "      <td> 12025176283</td>\n",
        "      <td> 12029867020</td>\n",
        "      <td>2014-06-01</td>\n",
        "      <td> False</td>\n",
        "    </tr>\n",
        "    <tr>\n",
        "      <th>2</th>\n",
        "      <td> 18663049187</td>\n",
        "      <td> 15159256650</td>\n",
        "      <td>2014-06-01</td>\n",
        "      <td> False</td>\n",
        "    </tr>\n",
        "    <tr>\n",
        "      <th>3</th>\n",
        "      <td> 15594157085</td>\n",
        "      <td> 16199247140</td>\n",
        "      <td>2014-06-01</td>\n",
        "      <td> False</td>\n",
        "    </tr>\n",
        "    <tr>\n",
        "      <th>4</th>\n",
        "      <td> 18582407865</td>\n",
        "      <td> 19492012595</td>\n",
        "      <td>2014-06-01</td>\n",
        "      <td> False</td>\n",
        "    </tr>\n",
        "  </tbody>\n",
        "</table>\n",
        "</div>"
       ],
       "metadata": {},
       "output_type": "pyout",
       "prompt_number": 16,
       "text": [
        "            TO         FROM  DATE/TIME LIKELY ROBOCALL\n",
        "0  16163847430  13236069958 2014-06-01           False\n",
        "1  12025176283  12029867020 2014-06-01           False\n",
        "2  18663049187  15159256650 2014-06-01           False\n",
        "3  15594157085  16199247140 2014-06-01           False\n",
        "4  18582407865  19492012595 2014-06-01           False"
       ]
      }
     ],
     "prompt_number": 16
    },
    {
     "cell_type": "markdown",
     "metadata": {},
     "source": [
      "First things to note right off the bat:\n",
      "\n",
      "1. We could let `phonenumbers` parse the numbers out for us and cache that\n",
      "2. The phone numbers are not really a numeric value and should be treated as categorical data\n",
      "3. The phone number should be broken up into individual categorical features, likely:\n",
      "    * Area code\n",
      "    * Carrier/Subscriber\n",
      "    * Not the last 4 digits though as they are randomized and need to be paired with the rest of the number to be unique\n",
      "4. It is unknown whose timezone the date and time is in. They could (should?) be normalized for each calling side\n",
      "5. Time zone can be extracted from the phone numbers themselves, but it says nothing about where the caller *actually* is"
     ]
    },
    {
     "cell_type": "heading",
     "level": 2,
     "metadata": {},
     "source": [
      "Let's see how the phonenumbers library works"
     ]
    },
    {
     "cell_type": "code",
     "collapsed": false,
     "input": [
      "# Pulling a random number from the data set\n",
      "fake_number = phonenumbers.parse(\"19188765408\")"
     ],
     "language": "python",
     "metadata": {},
     "outputs": [
      {
       "ename": "NumberParseException",
       "evalue": "(0) Missing or invalid default region.",
       "output_type": "pyerr",
       "traceback": [
        "\u001b[0;31m---------------------------------------------------------------------------\u001b[0m\n\u001b[0;31mNumberParseException\u001b[0m                      Traceback (most recent call last)",
        "\u001b[0;32m<ipython-input-17-5acd0111a6aa>\u001b[0m in \u001b[0;36m<module>\u001b[0;34m()\u001b[0m\n\u001b[1;32m      1\u001b[0m \u001b[0;31m# Pulling a random number from the data set\u001b[0m\u001b[0;34m\u001b[0m\u001b[0;34m\u001b[0m\u001b[0m\n\u001b[0;32m----> 2\u001b[0;31m \u001b[0mfake_number\u001b[0m \u001b[0;34m=\u001b[0m \u001b[0mphonenumbers\u001b[0m\u001b[0;34m.\u001b[0m\u001b[0mparse\u001b[0m\u001b[0;34m(\u001b[0m\u001b[0;34m\"19188765408\"\u001b[0m\u001b[0;34m)\u001b[0m\u001b[0;34m\u001b[0m\u001b[0m\n\u001b[0m",
        "\u001b[0;32m/usr/local/lib/python2.7/site-packages/phonenumbers/phonenumberutil.pyc\u001b[0m in \u001b[0;36mparse\u001b[0;34m(number, region, keep_raw_input, numobj, _check_region)\u001b[0m\n\u001b[1;32m   2453\u001b[0m     \u001b[0;32mif\u001b[0m \u001b[0m_check_region\u001b[0m \u001b[0;32mand\u001b[0m \u001b[0;32mnot\u001b[0m \u001b[0m_check_region_for_parsing\u001b[0m\u001b[0;34m(\u001b[0m\u001b[0mnational_number\u001b[0m\u001b[0;34m,\u001b[0m \u001b[0mregion\u001b[0m\u001b[0;34m)\u001b[0m\u001b[0;34m:\u001b[0m\u001b[0;34m\u001b[0m\u001b[0m\n\u001b[1;32m   2454\u001b[0m         raise NumberParseException(NumberParseException.INVALID_COUNTRY_CODE,\n\u001b[0;32m-> 2455\u001b[0;31m                                    \"Missing or invalid default region.\")\n\u001b[0m\u001b[1;32m   2456\u001b[0m     \u001b[0;32mif\u001b[0m \u001b[0mkeep_raw_input\u001b[0m\u001b[0;34m:\u001b[0m\u001b[0;34m\u001b[0m\u001b[0m\n\u001b[1;32m   2457\u001b[0m         \u001b[0mnumobj\u001b[0m\u001b[0;34m.\u001b[0m\u001b[0mraw_input\u001b[0m \u001b[0;34m=\u001b[0m \u001b[0mnumber\u001b[0m\u001b[0;34m\u001b[0m\u001b[0m\n",
        "\u001b[0;31mNumberParseException\u001b[0m: (0) Missing or invalid default region."
       ]
      }
     ],
     "prompt_number": 17
    },
    {
     "cell_type": "code",
     "collapsed": false,
     "input": [
      "# Looking back at their docs, a leading '+' and a region of None will make phonenumbers attempt to detect region, etc.\n",
      "fake_number = phonenumbers.parse(\"+19188765408\", None)\n",
      "fake_number"
     ],
     "language": "python",
     "metadata": {},
     "outputs": [
      {
       "metadata": {},
       "output_type": "pyout",
       "prompt_number": 18,
       "text": [
        "PhoneNumber(country_code=1, national_number=9188765408, extension=None, italian_leading_zero=False, number_of_leading_zeros=None, country_code_source=None, preferred_domestic_carrier_code=None)"
       ]
      }
     ],
     "prompt_number": 18
    },
    {
     "cell_type": "code",
     "collapsed": false,
     "input": [
      "fake_number.country_code"
     ],
     "language": "python",
     "metadata": {},
     "outputs": [
      {
       "metadata": {},
       "output_type": "pyout",
       "prompt_number": 19,
       "text": [
        "1"
       ]
      }
     ],
     "prompt_number": 19
    },
    {
     "cell_type": "code",
     "collapsed": false,
     "input": [
      "phonenumbers.is_valid_number(fake_number)"
     ],
     "language": "python",
     "metadata": {},
     "outputs": [
      {
       "metadata": {},
       "output_type": "pyout",
       "prompt_number": 20,
       "text": [
        "True"
       ]
      }
     ],
     "prompt_number": 20
    },
    {
     "cell_type": "code",
     "collapsed": false,
     "input": [
      "geocoder.description_for_number(fake_number, \"EN\")"
     ],
     "language": "python",
     "metadata": {},
     "outputs": [
      {
       "metadata": {},
       "output_type": "pyout",
       "prompt_number": 21,
       "text": [
        "'Oklahoma'"
       ]
      }
     ],
     "prompt_number": 21
    },
    {
     "cell_type": "code",
     "collapsed": false,
     "input": [
      "timezone.time_zones_for_number(fake_number)"
     ],
     "language": "python",
     "metadata": {},
     "outputs": [
      {
       "metadata": {},
       "output_type": "pyout",
       "prompt_number": 22,
       "text": [
        "('America/Chicago',)"
       ]
      }
     ],
     "prompt_number": 22
    },
    {
     "cell_type": "heading",
     "level": 2,
     "metadata": {},
     "source": [
      "Picking out features for the numbers themselves"
     ]
    },
    {
     "cell_type": "code",
     "collapsed": false,
     "input": [
      "# Do they all start with a 1?\n",
      "print(labeled_data[\"TO\"].str.get(0).unique())\n",
      "print(labeled_data[\"FROM\"].str.get(0).unique())\n",
      "print(unlabeled_data[\"TO\"].str.get(0).unique())\n",
      "print(unlabeled_data[\"FROM\"].str.get(0).unique())"
     ],
     "language": "python",
     "metadata": {},
     "outputs": [
      {
       "output_type": "stream",
       "stream": "stdout",
       "text": [
        "['1']\n",
        "['1']"
       ]
      },
      {
       "output_type": "stream",
       "stream": "stdout",
       "text": [
        "\n",
        "['1']"
       ]
      },
      {
       "output_type": "stream",
       "stream": "stdout",
       "text": [
        "\n",
        "['1']"
       ]
      },
      {
       "output_type": "stream",
       "stream": "stdout",
       "text": [
        "\n"
       ]
      }
     ],
     "prompt_number": 23
    },
    {
     "cell_type": "markdown",
     "metadata": {},
     "source": [
      "Yup! This means we're using the [North American Numbering Plan](http://en.wikipedia.org/wiki/North_American_Numbering_Plan).\n",
      "\n",
      "> The NANP is a system of numbering plan areas (NPA) using telephone numbers consisting of a three-digit area code, a three-digit central office code, and a four-digit station number. Through this plan, telephone calls can be directed to particular regions of the larger NANP public switched telephone network (PSTN), where they are further routed by the local networks. The NANP is administered by the North American Numbering Plan Administration (NANPA), a service operated by Neustar corporation. The international calling code for the NANP is 1.\n",
      "\n",
      "Our phone number structure is then `CAAAOOONNNN` where `C` is the country code, `AAA` is the area code, `OOO` is the \"central office\" code (does this come from the old operator days?), and `NNNN` are the rest of the unique digits for a caller (formally called the station number). We have randomized calls though, so we'll be ignoring `NNNN` as part of any feature on their own.\n",
      "\n",
      "Parsing the area code and central office code is trivial with Pandas semantics. However, there are a few utilities in the `phonenumbers` library that might help in a little bit though, namely:\n",
      "* `geocoder.description_for_number`\n",
      "* `phonenumbers.is_valid_number`\n",
      "* `timezone.time_zones_for_number`"
     ]
    },
    {
     "cell_type": "code",
     "collapsed": false,
     "input": [
      "# Let's go ahead and parse all of them \n",
      "# We'll parse with a leading + based on the numbers being listed with a leading country code,\n",
      "# leave the second argument as None so that the phonenumbers package has to try to detect \n",
      "\n",
      "labeled_data[\"TO_PARSED\"] = labeled_data[\"TO\"].apply(lambda row: phonenumbers.parse(\"+\" + row, None))\n",
      "labeled_data[\"FROM_PARSED\"] = labeled_data[\"FROM\"].apply(lambda row: phonenumbers.parse(\"+\" + row, None))"
     ],
     "language": "python",
     "metadata": {},
     "outputs": [],
     "prompt_number": 24
    },
    {
     "cell_type": "code",
     "collapsed": false,
     "input": [
      "# That one took a while to compute, better make sure to run that on our unlabeled data while we're at it\n",
      "unlabeled_data[\"TO_PARSED\"] = unlabeled_data[\"TO\"].apply(lambda row: phonenumbers.parse(\"+\" + row, None))\n",
      "unlabeled_data[\"FROM_PARSED\"] = unlabeled_data[\"FROM\"].apply(lambda row: phonenumbers.parse(\"+\" + row, None))"
     ],
     "language": "python",
     "metadata": {},
     "outputs": [],
     "prompt_number": 25
    },
    {
     "cell_type": "code",
     "collapsed": false,
     "input": [
      "labeled_data[\"TO_VALID\"] = labeled_data[\"TO_PARSED\"].apply(lambda ph: phonenumbers.is_valid_number(ph))\n",
      "labeled_data[\"FROM_VALID\"] = labeled_data[\"FROM_PARSED\"].apply(lambda ph: phonenumbers.is_valid_number(ph))\n",
      "\n",
      "labeled_data[\"TO_DESCRIPTION\"] = labeled_data[\"TO_PARSED\"].apply(lambda ph: geocoder.description_for_number(ph, \"EN\"))\n",
      "labeled_data[\"FROM_DESCRIPTION\"] = labeled_data[\"FROM_PARSED\"].apply(lambda ph: geocoder.description_for_number(ph, \"EN\"))\n",
      "\n",
      "labeled_data[\"TO_TIMEZONE\"] = labeled_data[\"TO_PARSED\"].apply(lambda ph: timezone.time_zones_for_number(ph))\n",
      "labeled_data[\"FROM_TIMEZONE\"] = labeled_data[\"FROM_PARSED\"].apply(lambda ph: timezone.time_zones_for_number(ph))\n"
     ],
     "language": "python",
     "metadata": {},
     "outputs": [],
     "prompt_number": 26
    },
    {
     "cell_type": "code",
     "collapsed": false,
     "input": [
      "labeled_data.TO_VALID.unique()"
     ],
     "language": "python",
     "metadata": {},
     "outputs": [
      {
       "metadata": {},
       "output_type": "pyout",
       "prompt_number": 27,
       "text": [
        "array([True], dtype=object)"
       ]
      }
     ],
     "prompt_number": 27
    },
    {
     "cell_type": "code",
     "collapsed": false,
     "input": [
      "labeled_data.FROM_VALID.unique()"
     ],
     "language": "python",
     "metadata": {},
     "outputs": [
      {
       "metadata": {},
       "output_type": "pyout",
       "prompt_number": 28,
       "text": [
        "array([True, False], dtype=object)"
       ]
      }
     ],
     "prompt_number": 28
    },
    {
     "cell_type": "markdown",
     "metadata": {},
     "source": [
      "There are *invalid numbers in the from case*?!? What proportion of those are from the likely robocallers?"
     ]
    },
    {
     "cell_type": "code",
     "collapsed": false,
     "input": [
      "from_valid_v_robocall = pd.crosstab([labeled_data.FROM_VALID], labeled_data['LIKELY ROBOCALL'])\n",
      "from_valid_v_robocall.plot(kind='bar', stacked=True, grid=False)\n",
      "from_valid_v_robocall"
     ],
     "language": "python",
     "metadata": {},
     "outputs": [
      {
       "html": [
        "<div style=\"max-height:1000px;max-width:1500px;overflow:auto;\">\n",
        "<table border=\"1\" class=\"dataframe\">\n",
        "  <thead>\n",
        "    <tr style=\"text-align: right;\">\n",
        "      <th>LIKELY ROBOCALL</th>\n",
        "      <th>False</th>\n",
        "      <th>True</th>\n",
        "    </tr>\n",
        "    <tr>\n",
        "      <th>FROM_VALID</th>\n",
        "      <th></th>\n",
        "      <th></th>\n",
        "    </tr>\n",
        "  </thead>\n",
        "  <tbody>\n",
        "    <tr>\n",
        "      <th>False</th>\n",
        "      <td>   839</td>\n",
        "      <td>   356</td>\n",
        "    </tr>\n",
        "    <tr>\n",
        "      <th>True </th>\n",
        "      <td> 91927</td>\n",
        "      <td> 44241</td>\n",
        "    </tr>\n",
        "  </tbody>\n",
        "</table>\n",
        "</div>"
       ],
       "metadata": {},
       "output_type": "pyout",
       "prompt_number": 97,
       "text": [
        "LIKELY ROBOCALL  False  True \n",
        "FROM_VALID                   \n",
        "False              839    356\n",
        "True             91927  44241"
       ]
      },
      {
       "metadata": {},
       "output_type": "display_data",
       "png": "[encoded data removed]",
       "text": [
        "<matplotlib.figure.Figure at 0x133ce4950>"
       ]
      }
     ],
     "prompt_number": 97
    },
    {
     "cell_type": "code",
     "collapsed": false,
     "input": [
      "from_valid_v_robocall.div(from_valid_v_robocall.sum(1).astype(float), axis=0).plot(kind='barh', stacked=True)"
     ],
     "language": "python",
     "metadata": {},
     "outputs": [
      {
       "metadata": {},
       "output_type": "pyout",
       "prompt_number": 101,
       "text": [
        "<matplotlib.axes.AxesSubplot at 0x134a35c10>"
       ]
      },
      {
       "metadata": {},
       "output_type": "display_data",
       "png": "[encoded data removed]",
       "text": [
        "<matplotlib.figure.Figure at 0x133dc5c10>"
       ]
      }
     ],
     "prompt_number": 101
    },
    {
     "cell_type": "code",
     "collapsed": false,
     "input": [],
     "language": "python",
     "metadata": {},
     "outputs": []
    },
    {
     "cell_type": "code",
     "collapsed": false,
     "input": [],
     "language": "python",
     "metadata": {},
     "outputs": []
    },
    {
     "cell_type": "code",
     "collapsed": false,
     "input": [],
     "language": "python",
     "metadata": {},
     "outputs": []
    },
    {
     "cell_type": "code",
     "collapsed": false,
     "input": [],
     "language": "python",
     "metadata": {},
     "outputs": []
    },
    {
     "cell_type": "code",
     "collapsed": false,
     "input": [],
     "language": "python",
     "metadata": {},
     "outputs": []
    },
    {
     "cell_type": "code",
     "collapsed": false,
     "input": [],
     "language": "python",
     "metadata": {},
     "outputs": []
    },
    {
     "cell_type": "code",
     "collapsed": false,
     "input": [],
     "language": "python",
     "metadata": {},
     "outputs": []
    },
    {
     "cell_type": "code",
     "collapsed": false,
     "input": [
      "# Extract the area code using slicing since they are all regular US numbers\n",
      "labeled_data[\"TO_AREA_CODE\"] = labeled_data[\"TO\"].str.slice(1,4)\n",
      "labeled_data[\"FROM_AREA_CODE\"] = labeled_data[\"FROM\"].str.slice(1,4)"
     ],
     "language": "python",
     "metadata": {},
     "outputs": [],
     "prompt_number": 74
    },
    {
     "cell_type": "code",
     "collapsed": false,
     "input": [
      "labeled_data.TO_AREA_CODE.describe()"
     ],
     "language": "python",
     "metadata": {},
     "outputs": [
      {
       "metadata": {},
       "output_type": "pyout",
       "prompt_number": 81,
       "text": [
        "count     137363\n",
        "unique       300\n",
        "top          888\n",
        "freq       11316\n",
        "dtype: object"
       ]
      }
     ],
     "prompt_number": 81
    },
    {
     "cell_type": "code",
     "collapsed": false,
     "input": [
      "labeled_data.FROM_AREA_CODE.describe()"
     ],
     "language": "python",
     "metadata": {},
     "outputs": [
      {
       "metadata": {},
       "output_type": "pyout",
       "prompt_number": 82,
       "text": [
        "count     137363\n",
        "unique       430\n",
        "top          800\n",
        "freq        5843\n",
        "dtype: object"
       ]
      }
     ],
     "prompt_number": 82
    },
    {
     "cell_type": "code",
     "collapsed": false,
     "input": [
      "# Extract the area code using slicing since they are all regular US numbers\n",
      "labeled_data[\"TO_OFFICE_CODE\"] = labeled_data[\"TO\"].str.slice(4,7)\n",
      "labeled_data[\"FROM_OFFICE_CODE\"] = labeled_data[\"FROM\"].str.slice(4,7)"
     ],
     "language": "python",
     "metadata": {},
     "outputs": []
    },
    {
     "cell_type": "code",
     "collapsed": false,
     "input": [
      "labeled_data.apply"
     ],
     "language": "python",
     "metadata": {},
     "outputs": [
      {
       "metadata": {},
       "output_type": "pyout",
       "prompt_number": 33,
       "text": [
        "count                                                137363\n",
        "unique                                               137095\n",
        "top       Country Code: 1 National Number: 8889981469 Le...\n",
        "freq                                                      3\n",
        "dtype: object"
       ]
      }
     ],
     "prompt_number": 33
    },
    {
     "cell_type": "code",
     "collapsed": false,
     "input": [
      "label"
     ],
     "language": "python",
     "metadata": {},
     "outputs": []
    },
    {
     "cell_type": "code",
     "collapsed": false,
     "input": [
      "2"
     ],
     "language": "python",
     "metadata": {},
     "outputs": []
    },
    {
     "cell_type": "code",
     "collapsed": false,
     "input": [],
     "language": "python",
     "metadata": {},
     "outputs": []
    },
    {
     "cell_type": "code",
     "collapsed": false,
     "input": [],
     "language": "python",
     "metadata": {},
     "outputs": []
    },
    {
     "cell_type": "code",
     "collapsed": false,
     "input": [],
     "language": "python",
     "metadata": {},
     "outputs": []
    },
    {
     "cell_type": "heading",
     "level": 3,
     "metadata": {},
     "source": [
      "Only 3 datapoints, need to extract better features"
     ]
    },
    {
     "cell_type": "code",
     "collapsed": false,
     "input": [
      "unlabeled_data[\"TO\"].describe()"
     ],
     "language": "python",
     "metadata": {},
     "outputs": [
      {
       "metadata": {},
       "output_type": "pyout",
       "prompt_number": 10,
       "text": [
        "count          201520\n",
        "unique          32217\n",
        "top       18779551830\n",
        "freq             5078\n",
        "dtype: object"
       ]
      }
     ],
     "prompt_number": 10
    },
    {
     "cell_type": "code",
     "collapsed": false,
     "input": [
      "Phone numbers aren't really numeric data, so we'll want to encode "
     ],
     "language": "python",
     "metadata": {},
     "outputs": []
    },
    {
     "cell_type": "markdown",
     "metadata": {},
     "source": [
      "The `phonenumbers` library has a `is_valid_number` call. Let's check that out."
     ]
    },
    {
     "cell_type": "code",
     "collapsed": false,
     "input": [
      "def get_time_zone(parsed_number):\n",
      "    '''\n",
      "    Pulls out the first timezone given back using the phonenumbers library,\n",
      "    otherwise just calls it America (based on this dataset).\n",
      "    '''\n",
      "    tz = timezone.time_zones_for_number(parsed_number)\n",
      "    \n",
      "    if(len(tz) > 2):\n",
      "        # Got a list of timezones, likely toll free number \n",
      "        tz = 'Multi'\n",
      "    else:\n",
      "        tz = tz[0]\n",
      "        \n",
      "    return tz"
     ],
     "language": "python",
     "metadata": {},
     "outputs": [],
     "prompt_number": 3
    },
    {
     "cell_type": "code",
     "collapsed": false,
     "input": [
      "def extract_features(ftc_row):\n",
      "    '''\n",
      "    Extracts some chosen features from an FTC Robocall DataFrame row\n",
      "    '''\n",
      "    to_parsed =  phonenumbers.parse(\"+\" + ftc_row[\"TO\"], None)\n",
      "    from_parsed = phonenumbers.parse(\"+\" + ftc_row[\"FROM\"], None)\n",
      "\n",
      "    # Make fields\n",
      "    ftc_row[\"TOVALID\"] = phonenumbers.is_valid_number(to_parsed)\n",
      "    ftc_row[\"FROMVALID\"] = phonenumbers.is_valid_number(from_parsed)\n",
      "    \n",
      "    ftc_row[\"TOSTATE\"] = geocoder.description_for_number(to_parsed, \"EN\")\n",
      "    ftc_row[\"FROMSTATE\"] = geocoder.description_for_number(from_parsed, \"EN\")\n",
      "    \n",
      "    ftc_row[\"TOTZ\"] = get_time_zone(to_parsed)\n",
      "    ftc_row[\"FROMTZ\"] = get_time_zone(from_parsed)\n",
      "    \n",
      "    ftc_row[\"TOAREACODE\"] = str(to_parsed.national_number)[:3]\n",
      "    ftc_row[\"FROMAREACODE\"] = str(from_parsed.national_number)[:3]\n",
      "    \n",
      "    ftc_row[\"HOUR\"] = ftc_row[\"DATE/TIME\"].hour\n",
      "    ftc_row[\"MINUTE\"] = ftc_row[\"DATE/TIME\"].minute\n",
      "    \n",
      "    # Weekdays are 0-4\n",
      "    ftc_row[\"ISWEEKDAY\"] = ftc_row[\"DATE/TIME\"].dayofweek in range(5)\n",
      "    \n",
      "    # Determined that a call within the first 3 minutes looked like an interesting feature\n",
      "    ftc_row[\"WITHIN_THREE_MINUTES\"] = ftc_row[\"MINUTE\"] < 3\n",
      "    \n",
      "    # FTC's data set \n",
      "    ftc_row['LIKELY ROBOCALL'] = ftc_row['LIKELY ROBOCALL'] == 'X'\n",
      "    \n",
      "    ftc_row[\"SAMEAREACODE\"] = ftc_row[\"TOAREACODE\"] == ftc_row[\"FROMAREACODE\"]\n",
      "    \n",
      "    return ftc_row\n",
      "\n",
      "\n",
      "# Scoring system for contest\n",
      "# Not 0-1 loss...\n",
      "def score(our_predictions, true_results):\n",
      "    our_score = 0\n",
      "    for i in range(len(true_results)):\n",
      "        if (our_predictions[i] == True and true_results[i] == True):\n",
      "            our_score += 1\n",
      "        if (our_predictions[i] == True and true_results[i] == False):\n",
      "            our_score -= 1\n",
      "    return our_score\n",
      "\n",
      "\n",
      "# features is only a copy of the dataframe, can't use this\n",
      "#def label_encode(features, feature_name):\n",
      "#    feature_encoder = preprocessing.LabelEncoder()\n",
      "#    features[feature_name] = feature_encoder.fit_transform(features[feature_name])\n",
      "#    return feature_encoder\n",
      "\n",
      "def enriched_data_to_features(enriched_data):\n",
      "    feature_names = [\n",
      "            \"TOTZ\",\n",
      "            \"FROMTZ\",\n",
      "            \"SAMEAREACODE\",\n",
      "            \"WITHIN_THREE_MINUTES\",\n",
      "            \"FROMVALID\",\n",
      "            \"HOUR\",\n",
      "            #\"ISWEEKDAY\", # Undecided on whether this will generalize since\n",
      "                          # training and test data have different weekdays\n",
      "            \n",
      "            \"NUM_FROM_CALLS\",\n",
      "            \"NUM_TO_CALLS\",\n",
      "    ]\n",
      "\n",
      "    features = enriched_data[feature_names]\n",
      "    \n",
      "    # Encode categorical data\n",
      "    if (\"TOTZ\" in features):\n",
      "        totz_encoder = preprocessing.LabelEncoder()\n",
      "        features[\"TOTZ\"] = totz_encoder.fit_transform(features[\"TOTZ\"])\n",
      "    if (\"FROMTZ\" in features):\n",
      "        fromtz_encoder = preprocessing.LabelEncoder()\n",
      "        features[\"FROMTZ\"] = fromtz_encoder.fit_transform(features[\"FROMTZ\"])\n",
      "    if (\"HOUR\" in features):\n",
      "        hour_encoder = preprocessing.LabelEncoder()\n",
      "        features[\"HOUR\"] = hour_encoder.fit_transform(features[\"HOUR\"])\n",
      "    \n",
      "    target = enriched_data[\"LIKELY ROBOCALL\"].values\n",
      "    \n",
      "    return features, target\n",
      "    \n",
      "\n",
      "def train(features, target, c):\n",
      "    '''\n",
      "    Trains the robocall classifier using an enriched DataFrame (using the\n",
      "    enrichment library).\n",
      "\n",
      "    >>> classifier = train(enriched_data)\n",
      "\n",
      "    '''\n",
      "\n",
      "    classifier = RandomForestClassifier(n_estimators=200, \n",
      "                                        verbose=0,\n",
      "                                        n_jobs=-1,\n",
      "                                        min_samples_split=c,\n",
      "                                        random_state=1,\n",
      "                                        oob_score=True)\n",
      "\n",
      "    classifier.fit(features, target)\n",
      "    print(\"Resulting OOB Score: {}\".format(classifier.oob_score_))\n",
      "\n",
      "    return classifier"
     ],
     "language": "python",
     "metadata": {},
     "outputs": [],
     "prompt_number": 3
    },
    {
     "cell_type": "code",
     "collapsed": false,
     "input": [
      "def massage_dataset(dataset=\"FTC1.csv\"):\n",
      "\n",
      "    X = pd.read_csv(dataset,\n",
      "                    parse_dates=[\"DATE/TIME\"],\n",
      "                    dtype={'TO':str, 'FROM':str})\n",
      "\n",
      "    # Initial feature extraction\n",
      "    Y = X.apply(extract_features, axis=1)\n",
      "\n",
      "    sizes = Y.groupby(\"FROM\").size()\n",
      "\n",
      "    def get_size(val):\n",
      "       return sizes[val]\n",
      "\n",
      "    Y[\"NUM_FROM_CALLS\"] = Y[\"FROM\"].apply(get_size)\n",
      "\n",
      "    sizes = Y.groupby(\"TO\").size()\n",
      "    Y[\"NUM_TO_CALLS\"] = Y[\"TO\"].apply(get_size)\n",
      "    return Y"
     ],
     "language": "python",
     "metadata": {},
     "outputs": [],
     "prompt_number": 4
    },
    {
     "cell_type": "code",
     "collapsed": false,
     "input": [
      "Y = massage_dataset(\"FTC1.csv\")"
     ],
     "language": "python",
     "metadata": {},
     "outputs": []
    },
    {
     "cell_type": "code",
     "collapsed": false,
     "input": [
      "Z = massage_dataset(\"FTC2.csv\")"
     ],
     "language": "python",
     "metadata": {},
     "outputs": [],
     "prompt_number": 126
    },
    {
     "cell_type": "code",
     "collapsed": false,
     "input": [
      "Z.to_csv(\"FTC2_enriched.csv\", encoding=\"utf-8\")"
     ],
     "language": "python",
     "metadata": {},
     "outputs": [],
     "prompt_number": 127
    },
    {
     "cell_type": "code",
     "collapsed": false,
     "input": [
      "Y.to_csv(\"FTC1_enriched.csv\", encoding='utf-8')"
     ],
     "language": "python",
     "metadata": {},
     "outputs": [],
     "prompt_number": 113
    },
    {
     "cell_type": "code",
     "collapsed": false,
     "input": [
      "dataset = 'FTC1_enriched.csv'\n",
      "Y = pd.read_csv(dataset,\n",
      "                parse_dates=[\"DATE/TIME\"],\n",
      "                dtype={'TO':str, 'FROM':str})"
     ],
     "language": "python",
     "metadata": {},
     "outputs": [],
     "prompt_number": 114
    },
    {
     "cell_type": "code",
     "collapsed": false,
     "input": [
      "# Separate into training and test sets based on FROM\n",
      "# This won't be needed when reading in testing data set;\n",
      "# for that, train on full data and then use .predict()\n",
      "\n",
      "from_numbers = Y[\"FROM\"].unique()\n",
      "\n",
      "# 70% / 30%\n",
      "num_train = int(round(.7 * len(from_numbers)))\n",
      "num_test = len(from_numbers) - num_train\n",
      "train_samples = np.random.choice(from_numbers, num_train)\n",
      "\n",
      "\n",
      "train_data = Y[Y['FROM'].isin(train_samples)]\n",
      "test_data = Y[~Y['FROM'].isin(train_samples)]\n"
     ],
     "language": "python",
     "metadata": {},
     "outputs": [],
     "prompt_number": 115
    },
    {
     "cell_type": "code",
     "collapsed": false,
     "input": [
      "train_data = Y\n",
      "test_data = Z\n"
     ],
     "language": "python",
     "metadata": {},
     "outputs": [],
     "prompt_number": 128
    },
    {
     "cell_type": "code",
     "collapsed": false,
     "input": [
      "# For development\n",
      "train_features, train_target = enriched_data_to_features(train_data)\n",
      "test_features, test_target = enriched_data_to_features(test_data)\n",
      "\n",
      "for c in [285]: #range(230, 290, 5):\n",
      "    classifier = train(train_features, train_target, c)\n",
      "    our_predictions = classifier.predict(test_features)\n",
      "    our_train_predictions = classifier.predict(train_features)\n",
      "    print \"c = {0}, test score = {1}, train score = {2}\".format(c, score(our_predictions, test_target), score(our_train_predictions, train_target) )\n",
      "\n",
      "# For production\n",
      "# classifier = train(Y)\n",
      "#classifier.feature_importances_"
     ],
     "language": "python",
     "metadata": {},
     "outputs": [
      {
       "output_type": "stream",
       "stream": "stdout",
       "text": [
        "Resulting OOB Score: 0.883156308467\n",
        "c = 285, test score = -76593, train score = 28914"
       ]
      },
      {
       "output_type": "stream",
       "stream": "stdout",
       "text": [
        "\n"
       ]
      }
     ],
     "prompt_number": 140
    },
    {
     "cell_type": "code",
     "collapsed": false,
     "input": [
      "# For production, we'll train on the entire FTC1 dataset and then fit to the FTC2 dataset\n",
      "\n",
      "train_features, train_target = enriched_data_to_features(train_data)\n",
      "test_features, test_target = enriched_data_to_features(test_data)\n",
      "\n",
      "predictions = classifier.predict(test_features)\n",
      "\n",
      "X = Z[[\"FROM\", \"TO\", \"DATE/TIME\"]]\n",
      "\n",
      "X[\"LIKELY ROBOCALL\"] = predictions\n",
      "X[\"LIKELY ROBOCALL\"] = X[\"LIKELY ROBOCALL\"].map(lambda x: \"X\" if x else \"\")"
     ],
     "language": "python",
     "metadata": {},
     "outputs": [],
     "prompt_number": 138
    },
    {
     "cell_type": "code",
     "collapsed": false,
     "input": [
      "X.to_csv(\"predictions.csv\")"
     ],
     "language": "python",
     "metadata": {},
     "outputs": [],
     "prompt_number": 141
    },
    {
     "cell_type": "code",
     "collapsed": false,
     "input": [
      "classifier.oob_score_"
     ],
     "language": "python",
     "metadata": {},
     "outputs": [
      {
       "metadata": {},
       "output_type": "pyout",
       "prompt_number": 134,
       "text": [
        "0.88743578475200413"
       ]
      }
     ],
     "prompt_number": 134
    },
    {
     "cell_type": "code",
     "collapsed": false,
     "input": [],
     "language": "python",
     "metadata": {},
     "outputs": []
    }
   ],
   "metadata": {}
  }
 ]
}